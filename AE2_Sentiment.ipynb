{
 "cells": [
  {
   "cell_type": "markdown",
   "metadata": {},
   "source": [
    "# Sentiment Analysis \n",
    "\n",
    "For this task, I build a model to predict the sentiment of movie reviews from the Stanford Sentiment Treebank binart classification dataset. This dataset consists of reviews labelled 1 for positive and 0 for negative.\n",
    "\n",
    "This analysis is structured so that answers to A, B and C can be run separately. \n"
   ]
  },
  {
   "cell_type": "code",
   "execution_count": 1,
   "metadata": {},
   "outputs": [],
   "source": [
    "#import modules\n",
    "import pandas as pd \n",
    "import numpy as np \n",
    "\n",
    "\n",
    "%matplotlib inline\n",
    "\n",
    "import matplotlib.pyplot as plt\n",
    "\n",
    "plt.rc('font', **{'family':'sans-serif','sans-serif':['Arial'], 'size': 20})\n",
    "\n",
    "\n",
    "import sklearn\n",
    "\n",
    "from sklearn.metrics import confusion_matrix\n",
    "\n",
    "from sklearn.metrics import accuracy_score\n",
    "from sklearn.metrics import confusion_matrix, plot_confusion_matrix, classification_report\n",
    "\n",
    "from sklearn.model_selection import train_test_split as split\n",
    "from sklearn.model_selection import GridSearchCV, cross_val_score, KFold\n",
    "\n",
    "from sklearn.feature_extraction.text import CountVectorizer\n",
    "from sklearn.feature_extraction.text import TfidfVectorizer\n",
    "\n",
    "\n",
    "\n",
    "\n",
    "\n",
    "from sklearn.svm import LinearSVC\n",
    "from sklearn.linear_model import LogisticRegression \n",
    "from sklearn.naive_bayes import MultinomialNB\n",
    "\n",
    "import time\n",
    "\n",
    "from sklearn.pipeline import Pipeline"
   ]
  },
  {
   "cell_type": "code",
   "execution_count": 2,
   "metadata": {},
   "outputs": [],
   "source": [
    "\n",
    "class Dataset(object):\n",
    "    \"\"\"\n",
    "    A helper data structure to store the images (X) and labels (y) of a dataset.\n",
    "    \"\"\"\n",
    "    def __init__(self):\n",
    "        self.X = None\n",
    "        self.y = None\n"
   ]
  },
  {
   "cell_type": "code",
   "execution_count": 3,
   "metadata": {},
   "outputs": [
    {
     "name": "stdout",
     "output_type": "stream",
     "text": [
      "55.78% positive, 44.22% negative samples in training set\n"
     ]
    }
   ],
   "source": [
    "#get data\n",
    "path = '/Users/user/AE2/S/train.tsv'\n",
    "path2 = '/Users/user/AE2/S/dev.tsv'\n",
    "\n",
    "train = pd.read_csv(path, sep='\\t', usecols=['sentence','label'])\n",
    "dev = pd.read_csv(path2, sep='\\t', usecols=['sentence', 'label'])\n",
    "\n",
    "train_x = train['sentence'].values\n",
    "train_y = train['label'].values\n",
    "\n",
    "dev_x = dev['sentence'].values\n",
    "dev_y = dev['label'].values\n",
    "\n",
    "#work out +/- split in train\n",
    "\n",
    "ans = (len(train.loc[train.label ==1])/len(train)*100)\n",
    "\n",
    "print(f'{ans:.2f}% positive, {(100-ans):.2f}% negative samples in training set')\n",
    "\n"
   ]
  },
  {
   "cell_type": "markdown",
   "metadata": {},
   "source": [
    "The training set has 55.78% positive reviews, meaning the baseline score for a model that predicts all 1s would score 55.78%. "
   ]
  },
  {
   "cell_type": "markdown",
   "metadata": {},
   "source": [
    "# A) Vectorization\n",
    "\n",
    "This task requires that I build a model to predict the sentiment (either positive or negative) of movie reviews. To do so, I first must transform the text input into numerical data for processing. The simplest means of doing this is to create a dictionary of words with term frequencies. First, the phrases must be tokenized into words, and then encoded as integers or floats to input into an algorithm.\n",
    "\n",
    "A Bag-of-Words model (BoW) disregards all grammar and structure and implements a simple count of all words in the document, where each word is assigned a unique number. By adding the parameter n_grams = (1,2) it also encodes as tokens of 2 words as well as one, which improves performance by adding some context to phrases like ‘not bad’, but as demonstrated below the higher the number of grams the more features we have, making processing slower.\n",
    "\n",
    "Once fit, the encoder can be applied to other documents using .transform(). \n",
    "\n",
    "I compare this count based vectorizer with TFIDF (Term Frequency – Inverse Document that calculates term frequency, weighted in terms of frequency within the document (indicating importance to the text), and downscaled by term frequency outside of the documents (indicating less importance to the text). \n",
    "\n",
    "I compare CountVectorizer with two forms of the TFIDFVectorizer, with and without stopwords. Since stopwords like ‘the’ don’t add meaning to the text they can be removed. The min_df has been set to 3 which means the terms must appear in minimum 3 documents, which also reduces the number of features. \n",
    "\n",
    "\n",
    "\n"
   ]
  },
  {
   "cell_type": "code",
   "execution_count": 4,
   "metadata": {},
   "outputs": [],
   "source": [
    "#test train split data\n",
    "        \n",
    "train = Dataset()\n",
    "test = Dataset()\n",
    "\n",
    "train.X, test.X, train.y, test.y = split(train_x, train_y,\n",
    "                                        test_size = 0.2, random_state=1)\n",
    "\n"
   ]
  },
  {
   "cell_type": "code",
   "execution_count": 5,
   "metadata": {},
   "outputs": [],
   "source": [
    "#compare vectorizers\n",
    "vectorizers = {\n",
    "    'CV': CountVectorizer(ngram_range=(1,2)),\n",
    "    \n",
    "    'tfidf': TfidfVectorizer(ngram_range=(1,2), min_df =2),\n",
    "    \n",
    "    \n",
    "    \n",
    "    'tfidf stopwords': TfidfVectorizer(stop_words=\"english\", \n",
    "                                                                      min_df=2, \n",
    "                                                                      ngram_range=(1,3)),\n",
    "   \n",
    "    \n",
    "    \n",
    "}\n",
    "\n",
    "vecs = []\n",
    "\n",
    "for name, vectorizer in vectorizers.items():\n",
    "    #fit to data\n",
    "    vectorizer.fit(train.X)\n",
    "    \n",
    "    train.V=vectorizer.transform(train.X)\n",
    "    test.V = vectorizer.transform(test.X)\n",
    "    \n",
    "    #LR model to compare\n",
    "    \n",
    "    model_lr = LogisticRegression(max_iter=1000).fit(X=train.V, y=train.y)\n",
    "    \n",
    " \n",
    "    train_score = round(model_lr.score(train.V, train.y), 4)*100\n",
    "    test_score = round(model_lr.score(test.V, test.y)*100, 2)\n",
    "    std = round(((train_score - test_score)**0.5), 2)\n",
    "    features = len(vectorizer.get_feature_names())\n",
    "    \n",
    "    #add to list\n",
    "    vecs.append([name,features, train_score, test_score, std])\n",
    "\n"
   ]
  },
  {
   "cell_type": "code",
   "execution_count": 6,
   "metadata": {},
   "outputs": [
    {
     "data": {
      "text/html": [
       "<div>\n",
       "<style scoped>\n",
       "    .dataframe tbody tr th:only-of-type {\n",
       "        vertical-align: middle;\n",
       "    }\n",
       "\n",
       "    .dataframe tbody tr th {\n",
       "        vertical-align: top;\n",
       "    }\n",
       "\n",
       "    .dataframe thead th {\n",
       "        text-align: right;\n",
       "    }\n",
       "</style>\n",
       "<table border=\"1\" class=\"dataframe\">\n",
       "  <thead>\n",
       "    <tr style=\"text-align: right;\">\n",
       "      <th></th>\n",
       "      <th>features</th>\n",
       "      <th>train %</th>\n",
       "      <th>test %</th>\n",
       "      <th>+-std</th>\n",
       "    </tr>\n",
       "    <tr>\n",
       "      <th>name</th>\n",
       "      <th></th>\n",
       "      <th></th>\n",
       "      <th></th>\n",
       "      <th></th>\n",
       "    </tr>\n",
       "  </thead>\n",
       "  <tbody>\n",
       "    <tr>\n",
       "      <th>CV</th>\n",
       "      <td>78884</td>\n",
       "      <td>98.21</td>\n",
       "      <td>92.04</td>\n",
       "      <td>2.48</td>\n",
       "    </tr>\n",
       "    <tr>\n",
       "      <th>tfidf</th>\n",
       "      <td>69929</td>\n",
       "      <td>95.35</td>\n",
       "      <td>90.89</td>\n",
       "      <td>2.11</td>\n",
       "    </tr>\n",
       "    <tr>\n",
       "      <th>tfidf stopwords</th>\n",
       "      <td>87721</td>\n",
       "      <td>94.8</td>\n",
       "      <td>89.93</td>\n",
       "      <td>2.21</td>\n",
       "    </tr>\n",
       "  </tbody>\n",
       "</table>\n",
       "</div>"
      ],
      "text/plain": [
       "                features train % test % +-std\n",
       "name                                         \n",
       "CV                 78884   98.21  92.04  2.48\n",
       "tfidf              69929   95.35  90.89  2.11\n",
       "tfidf stopwords    87721    94.8  89.93  2.21"
      ]
     },
     "execution_count": 6,
     "metadata": {},
     "output_type": "execute_result"
    }
   ],
   "source": [
    "#create df of results\n",
    "vecs = np.array(vecs)\n",
    "frame = pd.DataFrame(vecs, columns =['name','features', 'train %', 'test %', '+-std'])\n",
    "frame.set_index('name')"
   ]
  },
  {
   "cell_type": "markdown",
   "metadata": {},
   "source": [
    "My results show that which vectorizer we use impacts the performance of the model. While the score is highest for CV, the variance between the train and test sets suggests that the output is overfit to the training data, meaning it is not flexible enough to perform as well on unseen data. Because of this, I the tfidf vectorizer seems best for my purposes, with >90 accuracy on train and test, low variance and fewer features than CV.  My results show that which vectorizer we use impacts the performance of the model. While the score is highest for CV, the variance between the train and test sets suggests that the output is overfit to the training data, meaning it is not flexible enough to perform as well on unseen data. Because of this, I the tfidf vectorizer seems best for my purposes, with >90 accuracy on train and test, low variance and fewer features than CV.  "
   ]
  },
  {
   "cell_type": "markdown",
   "metadata": {},
   "source": [
    "# B) Model Selection "
   ]
  },
  {
   "cell_type": "markdown",
   "metadata": {},
   "source": [
    "In this section I compare the efficiency and accuracy of some models. I use the entire test set for this section as I use cross validation with 8 folds. Cross-validation means that all the data can be used for test and train and an average score is computed.  \n",
    "\n",
    "SciKit Learn offers many classifiers to choose from. The three I have included have been chosen for their speed and their accuracy for binary classifications.\n",
    "\n",
    "1. Logistic Regression \n",
    "\n",
    "Divides up the problem space by a sigmoid function and predicts labels for categorical dependent variables, so is well suited to binary classification. LR is the slowest model I consider.\n",
    "\n",
    "2. Multinomial Naïve Bayes\n",
    "\n",
    "\n",
    "Based on Bayes theorem prediction with the naive assumption of conditional independence. Is similar to LR and performs similarly but simplifies using assumptions to give a fast, highly simplified model. Is quicker than LR and uses less computational power. Can be tuned to give higher accuracy and correct for the initial assumptions for simplicity. \n",
    "\n",
    "3. SVM \n",
    "\n",
    "SVM requires more computational power than NB but performs the fastest and best of my three model choices. It also divides the decision space like LR, but tries to find a line with the ‘best’ margins to avoid misclassification. LR could change the decision boundaries by changing weights. LinearSVM performs SVM with a 'linear' kernel parameter. "
   ]
  },
  {
   "cell_type": "code",
   "execution_count": 7,
   "metadata": {},
   "outputs": [],
   "source": [
    "# apply vectorizer to all train \n",
    "vect = TfidfVectorizer(ngram_range=(1,2), min_df =2)\n",
    "                       \n",
    "train_XV = vect.fit_transform(train_x)"
   ]
  },
  {
   "cell_type": "code",
   "execution_count": 8,
   "metadata": {},
   "outputs": [
    {
     "name": "stdout",
     "output_type": "stream",
     "text": [
      "Log Regression:     :90.73%,+- 0.0021, [time:7.40s]\n",
      "Naive Bayes:        :90.60%,+- 0.0012, [time:0.12s]\n",
      "SVC:                :92.68%,+- 0.0024, [time:1.77s]\n"
     ]
    }
   ],
   "source": [
    "# choose estimators \n",
    "estimators ={\n",
    "    'Log Regression:': LogisticRegression(max_iter=1000),\n",
    "    'Naive Bayes:': MultinomialNB(),\n",
    "    'SVC:': LinearSVC(max_iter=10000),\n",
    "    \n",
    "        \n",
    "}\n",
    "\n",
    "#set number of folds for cross validation \n",
    "folds = KFold(n_splits=5, random_state=1, shuffle=True)\n",
    "\n",
    "results = []\n",
    "\n",
    "names = []\n",
    "for name, classifier in estimators.items():\n",
    "    start = time.time() #timer\n",
    "    scores = cross_val_score(classifier,\n",
    "                            X=train_XV,\n",
    "                            y=train_y,\n",
    "                                  cv=folds)\n",
    "    end = time.time() - start\n",
    "    \n",
    "    \n",
    "    \n",
    "    results.append(scores)\n",
    "    names.append(name)\n",
    "    msg= (f'{name:20s}:{scores.mean():.2%},+- {scores.std():.2}, [time:{end:.2f}s]')\n",
    "    print(msg)\n",
    "    \n"
   ]
  },
  {
   "cell_type": "markdown",
   "metadata": {},
   "source": [
    "The results show similar scores for the classifiers, although LR is considerably slower than the others. NB is fastest by far and could be made more accurate with tuned hyperparamters. SVM has the highest scores, lowest std and fastest performance, although all models perform similarly well across the board.  I have made a box and whisker plot to visualise the performance of each classifier, that shows that SVC is the best performing. "
   ]
  },
  {
   "cell_type": "code",
   "execution_count": 9,
   "metadata": {},
   "outputs": [
    {
     "data": {
      "image/png": "[encoded data removed]",
      "text/plain": [
       "<Figure size 576x432 with 1 Axes>"
      ]
     },
     "metadata": {
      "needs_background": "light"
     },
     "output_type": "display_data"
    }
   ],
   "source": [
    "#plot results \n",
    "\n",
    "\n",
    "fig = plt.figure(figsize = (8,6))\n",
    "\n",
    "\n",
    "\n",
    "fig.suptitle(\"Algorithm Comparison\") #set title\n",
    "ax = fig.add_subplot(111)\n",
    "\n",
    "plt.boxplot(results) #box plot\n",
    "ax.set_xticklabels(names)\n",
    "ax.set_ylabel('Score %')\n",
    "\n",
    "\n",
    "plt.show()"
   ]
  },
  {
   "cell_type": "markdown",
   "metadata": {},
   "source": [
    "# C) Tune HPs"
   ]
  },
  {
   "cell_type": "markdown",
   "metadata": {},
   "source": [
    "I can now tune some of the hyperparameters to improve the fit of my model. GridSearchCV allows to search through the hyperparameter space to compute the optimum cross validation score. Since this is computationally expensive, the number of parameters to search through must be limited. HalvingGridSearch can improve the speed for many variables.\n",
    "\n",
    "I have made a pipeline of steps so that I can tune the parameters for the vectorizer and model together and use the same cv over the entire data set. I also include some more options for the grid search in comments, but the computation time to compare all would be too large to process them all at once. I have input the results of the gridsearch into a variable below so that it doesn't have to retrain every time. \n",
    "\n",
    "\n",
    "Also, not all parameters can occur together so they might have to be separated. \n",
    "LinearSVC is the same as SVC but with parameter kernel = ‘linear’, it is more flexible in choices of penalties including l1, l2 and loss. penalty l1 and hinge are not supported together so tests must separate them. \n",
    "\n",
    "C is a regularisation parameter determining the margins for misclassification. In this search the default scores for C are optimal, the optimal penality is l1, which means loss  is squared hinge and dual must be false\n",
    "\n",
    ": {'clf__dual': False, 'clf__loss': 'squared_hinge', 'clf__penalty': 'l1'}\n",
    "\n",
    "\n",
    "I also search for the optimal max document frequency and n gram ranges from 1-3 word tokens.\n",
    "\n",
    "Code can be uncommented to exlpore more options but performing all at once will take a long time. Since parameter tuning doesn't improve the accuracy by much it might be worth looking into tuning a different model, for example NB, since tuning may have a greater impact on accuracy.\n",
    "\n"
   ]
  },
  {
   "cell_type": "code",
   "execution_count": 12,
   "metadata": {},
   "outputs": [
    {
     "name": "stdout",
     "output_type": "stream",
     "text": [
      "Fitting 5 folds for each of 2 candidates, totalling 10 fits\n"
     ]
    },
    {
     "name": "stderr",
     "output_type": "stream",
     "text": [
      "[Parallel(n_jobs=1)]: Using backend SequentialBackend with 1 concurrent workers.\n",
      "/opt/anaconda3/lib/python3.8/site-packages/sklearn/svm/_base.py:976: ConvergenceWarning: Liblinear failed to converge, increase the number of iterations.\n",
      "  warnings.warn(\"Liblinear failed to converge, increase \"\n",
      "/opt/anaconda3/lib/python3.8/site-packages/sklearn/svm/_base.py:976: ConvergenceWarning: Liblinear failed to converge, increase the number of iterations.\n",
      "  warnings.warn(\"Liblinear failed to converge, increase \"\n",
      "[Parallel(n_jobs=1)]: Done  10 out of  10 | elapsed:   36.8s finished\n"
     ]
    },
    {
     "name": "stdout",
     "output_type": "stream",
     "text": [
      "{'clf__dual': False, 'clf__loss': 'squared_hinge', 'clf__penalty': 'l1'}\n"
     ]
    }
   ],
   "source": [
    "#create pipeline of steps \n",
    "\n",
    "\n",
    "pipeline = Pipeline([\n",
    "\n",
    "    ('vect', TfidfVectorizer()),\n",
    "    ('clf', LinearSVC(max_iter=10000)),\n",
    "])\n",
    "\n",
    "#set parameters for grid search \n",
    "params = [\n",
    "    #'vect__max_df': (0.5, 0.75, 1.0), #max doc freq\n",
    "\n",
    "    #'vect__ngram_range': ((1, 2), (1,3)),  # unigrams or bigrams\n",
    "    \n",
    "     #'clf__C': [1,10, 100], #regularisation\n",
    "    \n",
    "     #'clf__loss': ['hinge', 'squared_hinge']}, #loss function\n",
    "    \n",
    "    {'clf__loss': ['squared_hinge'],\n",
    "     \n",
    "     'clf__dual': [False],\n",
    "     \n",
    "    'clf__penalty': ['l1']}, #penalty function\n",
    "    \n",
    "    {\n",
    "     'clf__loss': ['hinge'],\n",
    "     \n",
    "     'clf__dual': [True],\n",
    "     'clf__penalty': ['l2']\n",
    "     \n",
    "    }\n",
    "\n",
    "]\n",
    "\n",
    "    \n",
    "#Grid search for best parameters this is too long\n",
    "\n",
    "grid_search = GridSearchCV(pipeline, params, cv=5, refit=True, verbose =1)\n",
    "model2 = grid_search.fit(train_x, train_y)\n",
    "print(grid_search.best_params_)\n",
    "\n"
   ]
  },
  {
   "cell_type": "markdown",
   "metadata": {},
   "source": [
    "# Tuning Results \n",
    "\n",
    "I have taken the best result from my tuning and put into pipeline_with to evaluate its performance. My testing shows that tuning improved Avg score accuracy from 81.54% to Avg score accuracy 83.6%. This model would place 17th on the leaderboard at https://gluebenchmark.com/leaderboard."
   ]
  },
  {
   "cell_type": "code",
   "execution_count": 11,
   "metadata": {},
   "outputs": [
    {
     "name": "stdout",
     "output_type": "stream",
     "text": [
      "- Pipeline with no hyperparameter tuning Classification Report:\n",
      "              precision    recall  f1-score   support\n",
      "\n",
      "           0       0.85      0.76      0.80       428\n",
      "           1       0.79      0.87      0.83       444\n",
      "\n",
      "    accuracy                           0.82       872\n",
      "   macro avg       0.82      0.81      0.81       872\n",
      "weighted avg       0.82      0.82      0.81       872\n",
      "\n",
      "Avg score accuracy 81.54%\n",
      "NEGATIVE\n",
      "NEGATIVE\n",
      "POSITIVE\n",
      "- Pipeline with tuning Classification Report:\n",
      "              precision    recall  f1-score   support\n",
      "\n",
      "           0       0.83      0.84      0.83       428\n",
      "           1       0.84      0.84      0.84       444\n",
      "\n",
      "    accuracy                           0.84       872\n",
      "   macro avg       0.84      0.84      0.84       872\n",
      "weighted avg       0.84      0.84      0.84       872\n",
      "\n",
      "Avg score accuracy 83.60%\n",
      "NEGATIVE\n",
      "NEGATIVE\n",
      "POSITIVE\n"
     ]
    },
    {
     "data": {
      "image/png": "[encoded data removed]",
      "text/plain": [
       "<Figure size 432x288 with 2 Axes>"
      ]
     },
     "metadata": {
      "needs_background": "light"
     },
     "output_type": "display_data"
    },
    {
     "data": {
      "image/png": "[encoded data removed]",
      "text/plain": [
       "<Figure size 432x288 with 2 Axes>"
      ]
     },
     "metadata": {
      "needs_background": "light"
     },
     "output_type": "display_data"
    }
   ],
   "source": [
    "#Without parameter tuning\n",
    "\n",
    "pipeline = Pipeline([\n",
    "\n",
    "    ('vect', TfidfVectorizer()),\n",
    "    ('clf', LinearSVC() )  ])\n",
    "\n",
    "\n",
    "pipeline_with = Pipeline([\n",
    "\n",
    "    ('vect', TfidfVectorizer(ngram_range =(1,3),  max_df=0.5)),\n",
    "    ('clf', LinearSVC(C=1, dual=False, loss='squared_hinge', penalty='l1'))\n",
    "])\n",
    "\n",
    "\n",
    "    \n",
    "model3 = pipeline.fit(train_x, train_y)\n",
    "\n",
    "pred3 = model3.predict(dev_x)\n",
    "\n",
    "print('- Pipeline with no hyperparameter tuning Classification Report:')\n",
    "      \n",
    "print(classification_report(dev_y, pred3))\n",
    "\n",
    "\n",
    "    \n",
    "disp = plot_confusion_matrix(model3, dev_x, dev_y, normalize ='true')\n",
    "disp.ax_.set_title('Confusion Matrix without Tuning')\n",
    "\n",
    "\n",
    "print(f'Avg score accuracy {model3.score(dev_x, dev_y):.2%}')\n",
    "\n",
    "test_sentences = ['it wasnt bad at all', 'it was good but the ending was boring', 'it was so much better than the first']\n",
    "\n",
    "predictions = model3.predict(test_sentences)\n",
    "\n",
    "for prediction in predictions:\n",
    "    \n",
    "    if prediction >0:\n",
    "        print('POSITIVE')\n",
    "    elif prediction==0:\n",
    "        print('NEGATIVE')\n",
    "        \n",
    "\n",
    "model4 = pipeline_with.fit(train_x, train_y)\n",
    "\n",
    "pred4 = model4.predict(dev_x)\n",
    "\n",
    "print('- Pipeline with tuning Classification Report:')\n",
    "\n",
    "print(classification_report(dev_y, pred4))\n",
    "\n",
    "\n",
    "\n",
    "\n",
    "print(f'Avg score accuracy {model4.score(dev_x, dev_y):.2%}')\n",
    "\n",
    "disp2 = plot_confusion_matrix(model4, dev_x, dev_y, normalize = 'true')\n",
    "\n",
    "\n",
    "disp2.ax_.set_title('Confusion Matrix with Tuning')\n",
    "\n",
    "predictions4 = model4.predict(test_sentences)\n",
    "\n",
    "for prediction in predictions:\n",
    "    \n",
    "    if prediction >0:\n",
    "        print('POSITIVE')\n",
    "    elif prediction==0:\n",
    "        print('NEGATIVE')\n",
    "        \n"
   ]
  },
  {
   "cell_type": "markdown",
   "metadata": {},
   "source": [
    "# Reports \n",
    "\n",
    "Finally, I assess the performance of my model with a classification report and a confusion matrix. \n",
    "\n",
    "The cofusion matrix provides a visualisation of the distribution of correctly and incorrectly classified labels. I compare before and after paramater tuning. The confusion matrix shows that tuning has helped to reduce the number of false positives, improving overall accuracy but also affecting the number of false negatives by a slight increase.\n",
    "\n",
    "To test this, I have included two test sentences that are positive but contain negative language. An improved model would be able to handle these sentences. By taking more context into account in the vectorizing stage I might be able to account for this nuance. Unfortunately the tuning doesn't overcome this problem at this stage. \n",
    "\n",
    "The confusion matrix shows that the model predicts more false positives. As I show above, the data is not evenly split between positive and negative, which might influence the prediction. To try and improve this model I could create out of the original data set a balanced training set. \n",
    "\n",
    "The classification report provides scores precision, that scores how well a classifier labels predicts positives, and recall the fraction of correctly identified positives. The F1 score takes both of these into account so gives a beter insight into performance than accuracy to compare models. We can see that the tuning improves the f1 score for both positive and negative predictions.\n"
   ]
  },
  {
   "cell_type": "markdown",
   "metadata": {},
   "source": [
    "# Ethical Implications \n",
    "\n",
    "The risks of misclassification for models poses ethical issues. An accuracy of 83.6% means that many of the reviews will be misclassified. This problem will also become worse if the input data is not representative.  Skewing the sentiment of a movie review because, for example, the kind of language used varies, might have negative consequences for the output and mean that some movies are ranked worse than they should be. Since language often varies between different groups of people, for example, higher qualified professionals might use more complex language, while say, a teenager might use more slang. It is important for the model to be able to deal with both to avoid bias. A larger dataset should theoretically be more accurate but this is not necessarily the case. It has to be representative of the broader population to aviod this kind of bias. \n",
    "\n",
    "Human insight will always be required to check over for this kind of bias in code. Ultimately, it is also only humans that can be held accountable for the damages that might be caused by biased algorithms. \n",
    "\n",
    "Finally, the binary nature of this sentiment analysis is overly coarse-grained. While it is useful for classifying these reviews, the natural language text carries much more information. So this model is an oversimplification of reality that might distort how things really are. Adding more fine-grained distinctions like a neutral category might help to overcome this problem and could also improve performance. "
   ]
  },
  {
   "cell_type": "markdown",
   "metadata": {},
   "source": [
    "# References \n",
    "\n",
    "[SciKit Learn Documentation](https://scikit-learn.org/dev/versions.html)\n",
    "\n",
    "[SciKit Learn Working with text data](https://scikit-learn.org/stable/tutorial/text_analytics/working_with_text_data.html)\n",
    "\n",
    "[Algorithmic Accountability (Shah 2018)](https://royalsocietypublishing.org/doi/10.1098/rsta.2017.0362)\n",
    "\n",
    "[Data Science From Scratch Handbook](https://github.com/dwelcaslu/machine-learning-books/blob/master/Data%20Science%20from%20Scratch-%20First%20Principles%20with%20Python.pdf)\n",
    "\n",
    "\n",
    "\n",
    "\n",
    "\n",
    "\n",
    "\n"
   ]
  },
  {
   "cell_type": "code",
   "execution_count": 13,
   "metadata": {},
   "outputs": [
    {
     "name": "stdout",
     "output_type": "stream",
     "text": [
      " Words in MarkDown: 1605\n",
      " Words in Headings: 6\n",
      " Words in code: 659\n",
      "2270\n"
     ]
    }
   ],
   "source": [
    "import io\n",
    "from nbformat import current\n",
    "filepath = 'AE27.ipynb'\n",
    "with io.open(filepath, 'r', encoding='utf-8') as f:\n",
    "    nb = current.read(f, 'json')\n",
    "#markdown count\n",
    "md_count = 0\n",
    "for cell in nb.worksheets[0].cells:\n",
    "    if cell.cell_type == \"markdown\":\n",
    "        md_count += len(cell['source'].strip().split())\n",
    "print(f' Words in MarkDown: {md_count}')\n",
    "#heading count\n",
    "head_count = 0\n",
    "for cell in nb.worksheets[0].cells:\n",
    "    if cell.cell_type == \"heading\":\n",
    "        head_count += len(cell['source'].replace('#', '').strip().split())\n",
    "print(f' Words in Headings: {head_count}')\n",
    "#codecount\n",
    "code_count = 0\n",
    "for cell in nb.worksheets[0].cells:\n",
    "    if cell.cell_type == \"code\":\n",
    "        code_count += len(cell['input'].replace('#', '').strip().split())\n",
    "print(f' Words in code: {code_count}')\n",
    "print(code_count + head_count + md_count)"
   ]
  },
  {
   "cell_type": "code",
   "execution_count": null,
   "metadata": {},
   "outputs": [],
   "source": []
  }
 ],
 "metadata": {
  "kernelspec": {
   "display_name": "Python 3",
   "language": "python",
   "name": "python3"
  },
  "language_info": {
   "codemirror_mode": {
    "name": "ipython",
    "version": 3
   },
   "file_extension": ".py",
   "mimetype": "text/x-python",
   "name": "python",
   "nbconvert_exporter": "python",
   "pygments_lexer": "ipython3",
   "version": "3.8.3"
  }
 },
 "nbformat": 4,
 "nbformat_minor": 4
}
